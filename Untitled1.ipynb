{
 "cells": [
  {
   "cell_type": "code",
   "execution_count": 1,
   "id": "a7094e28",
   "metadata": {},
   "outputs": [],
   "source": [
    "import numpy as np\n",
    "from scipy import stats\n",
    "import pandas as pd\n",
    "import os.path\n",
    "\n",
    "import matplotlib as mpl\n",
    "import matplotlib.pyplot as plt\n",
    "\n",
    "from pathlib import Path\n",
    "from enum import Enum\n",
    "from tqdm import tqdm \n",
    "from contextlib import contextmanager  \n",
    "\n",
    "import geopandas as gpd\n",
    "from shapely.geometry import Polygon\n",
    "\n",
    "import rasterio\n",
    "from rasterio import Affine, MemoryFile\n",
    "from rasterio.enums import Resampling\n",
    "\n",
    "from sentinelhub import BBoxSplitter, BBox, CRS, CustomUrlParam\n",
    "\n",
    "from eolearn.core import EOTask, EOPatch, LinearWorkflow, FeatureType, OverwritePermission, \\\n",
    "    LoadFromDisk, SaveToDisk, EOExecutor\n",
    "from eolearn.io import ExportToTiff\n",
    "from eolearn.io.local_io import *\n",
    "from eolearn.mask import AddValidDataMaskTask\n",
    "from eolearn.mask.utilities import resize_images\n",
    "from eolearn.geometry import VectorToRaster, PointSamplingTask, ErosionTask\n",
    "from eolearn.features import LinearInterpolation, SimpleFilterTask, InterpolationTask, ValueFilloutTask, \\\n",
    "    HaralickTask, AddMaxMinNDVISlopeIndicesTask, AddMaxMinTemporalIndicesTask, AddSpatioTemporalFeaturesTask, \\\n",
    "    HOGTask, MaxNDVICompositing, LocalBinaryPatternTask"
   ]
  },
  {
   "cell_type": "code",
   "execution_count": 2,
   "id": "a618638d",
   "metadata": {},
   "outputs": [],
   "source": [
    "path = os.path.abspath('')\n",
    "data_path     = Path('/data')\n",
    "sentinel_path = data_path/'sentinel'\n",
    "\n",
    "output_path   = Path('output')\n",
    "shape_path    = output_path/'shapes'\n",
    "patch_path    = output_path/'patches'\n",
    "feature_path  = output_path/'features'\n",
    "\n",
    "shape_path.mkdir(exist_ok=True, parents=True)\n",
    "patch_path.mkdir(exist_ok=True, parents=True)\n",
    "feature_path.mkdir(exist_ok=True, parents=True)"
   ]
  },
  {
   "cell_type": "code",
   "execution_count": null,
   "id": "daf3151f",
   "metadata": {},
   "outputs": [],
   "source": [
    "train_test_gpdf = gpd.read_file(f'{path}/denmark.shp')\n",
    "train_test_gpdf.set_crs(epsg=32633, inplace=True)\n",
    "denmark = train_test_gpdf.geometry.unary_union.buffer(400)"
   ]
  },
  {
   "cell_type": "code",
   "execution_count": null,
   "id": "09025b83",
   "metadata": {},
   "outputs": [],
   "source": [
    "bbox_splitter = BBoxSplitter([denmark], denmark.crs, (6,5)) # 6 x 5 gives roughly square boxes\n",
    "\n",
    "bbox_list = np.array(bbox_splitter.get_bbox_list())\n",
    "info_list = np.array(bbox_splitter.get_info_list())\n",
    "\n",
    "# Create patchIDs\n",
    "patchIDs = []\n",
    "for idx, [bbox, info] in enumerate(zip(bbox_list, info_list)):\n",
    "    patchIDs.append(idx)\n",
    "    \n",
    "# Prepare info of selected EOPatches\n",
    "geometry = [Polygon(bbox.get_polygon()) for bbox in bbox_list[patchIDs]]\n",
    "idxs_x = [info['index_x'] for info in info_list[patchIDs]]\n",
    "idxs_y = [info['index_y'] for info in info_list[patchIDs]]\n",
    "\n",
    "gdf = gpd.GeoDataFrame({'index_x': idxs_x, 'index_y': idxs_y}, \n",
    "                       crs=denmark.crs, \n",
    "                       geometry=geometry)\n",
    "\n",
    "# save to shapefile\n",
    "shapefile_name = shape_path/'selected_denmark_bboxes.shp'\n",
    "gdf.to_file(shapefile_name)"
   ]
  },
  {
   "cell_type": "code",
   "execution_count": null,
   "id": "a1aef187",
   "metadata": {},
   "outputs": [],
   "source": [
    "fig, ax = plt.subplots(figsize=(15, 15))\n",
    "gdf.plot(ax=ax,facecolor='w',edgecolor='r',alpha=0.5)\n",
    "denmark_gpdf = gpd.GeoDataFrame(geometry=[denmark])\n",
    "denmark_gpdf.plot(ax=ax, facecolor='w',edgecolor='b',alpha=0.5)\n",
    "ax.set_title('Grid of tiles from Denmark', size=18);\n",
    "plt.axis('off')\n",
    "plt.show()"
   ]
  }
 ],
 "metadata": {
  "kernelspec": {
   "display_name": "Python 3 (ipykernel)",
   "language": "python",
   "name": "python3"
  },
  "language_info": {
   "codemirror_mode": {
    "name": "ipython",
    "version": 3
   },
   "file_extension": ".py",
   "mimetype": "text/x-python",
   "name": "python",
   "nbconvert_exporter": "python",
   "pygments_lexer": "ipython3",
   "version": "3.7.11"
  }
 },
 "nbformat": 4,
 "nbformat_minor": 5
}
