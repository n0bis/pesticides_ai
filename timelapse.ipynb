{
 "cells": [
  {
   "cell_type": "code",
   "execution_count": 1,
   "id": "0064f091",
   "metadata": {},
   "outputs": [
    {
     "name": "stderr",
     "output_type": "stream",
     "text": [
      "/Users/madsfalken/opt/anaconda3/envs/branch-env/lib/python3.7/site-packages/bolt/utils.py:3: DeprecationWarning: Using or importing the ABCs from 'collections' instead of from 'collections.abc' is deprecated since Python 3.3,and in 3.9 it will stop working\n",
      "  from collections import Iterable\n",
      "/Users/madsfalken/opt/anaconda3/envs/branch-env/lib/python3.7/site-packages/bolt/factory.py:17: DeprecationWarning: inspect.getargspec() is deprecated since Python 3.0, use inspect.signature() or inspect.getfullargspec()\n",
      "  args = inspect.getargspec(func)\n"
     ]
    }
   ],
   "source": [
    "%load_ext autoreload\n",
    "%autoreload 2\n",
    "\n",
    "import datetime as dt\n",
    "import json\n",
    "import os\n",
    "import subprocess\n",
    "from concurrent.futures import ProcessPoolExecutor\n",
    "from datetime import date, datetime, time, timedelta\n",
    "from functools import partial\n",
    "from glob import glob\n",
    "\n",
    "import ffmpeg\n",
    "import geopandas as gpd\n",
    "import imageio\n",
    "import matplotlib.pyplot as plt\n",
    "import numpy as np\n",
    "import pandas as pd\n",
    "import shapely\n",
    "from ipyleaflet import GeoJSON, Map, basemaps\n",
    "from shapely.geometry import Polygon\n",
    "from tqdm.auto import tqdm\n",
    "\n",
    "from eolearn.core import (EOExecutor, EOPatch, EOTask, FeatureType,\n",
    "                          LinearWorkflow, LoadTask, OverwritePermission,\n",
    "                          SaveTask, ZipFeatureTask)\n",
    "from eolearn.coregistration import ECCRegistration\n",
    "from eolearn.features import LinearInterpolation, SimpleFilterTask, NormalizedDifferenceIndexTask\n",
    "from eolearn.io import ExportToTiff, ImportFromTiff, SentinelHubInputTask, SentinelHubEvalscriptTask\n",
    "from eolearn.mask import CloudMaskTask, AddValidDataMaskTask\n",
    "\n",
    "from sentinelhub import (CRS, BatchSplitter, BBox, BBoxSplitter,\n",
    "                         DataCollection, Geometry, MimeType, SentinelHubBatch,\n",
    "                         SentinelHubRequest, SHConfig, bbox_to_dimensions)\n",
    "\n",
    "config = SHConfig()\n",
    "\n",
    "#config.sh_client_id = 'c2ddde9c-9bd8-4c8f-a716-2d7426875b24'\n",
    "#config.sh_client_secret = 'ksTZi62t[J(R[t%/<t})[Hw3I:;0+dqKNI{23nrw'\n",
    "config.sh_client_id = 'e9d24fd0-226a-480c-818f-5bb6b455b7f8'\n",
    "config.sh_client_secret = 'Wt%GL/{N*NHNgHuGfN6m|m6O*!%OSa*.YSpX.z:K'\n",
    "config.save()"
   ]
  },
  {
   "cell_type": "code",
   "execution_count": 2,
   "id": "29c596b2",
   "metadata": {},
   "outputs": [],
   "source": [
    "\n",
    "class AnimateTask(EOTask):\n",
    "    def __init__(self, image_dir, out_dir, out_name, feature=(FeatureType.DATA, 'indices'), scale_factor=2.5, duration=3, dpi=150, pad_inches=None, shape=None):\n",
    "        self.image_dir = image_dir\n",
    "        self.out_name = out_name\n",
    "        self.out_dir = out_dir\n",
    "        self.feature = feature\n",
    "        self.scale_factor = scale_factor\n",
    "        self.duration = duration\n",
    "        self.dpi = dpi\n",
    "        self.pad_inches = pad_inches\n",
    "        self.shape = shape\n",
    "        \n",
    "    def execute(self, eopatch):\n",
    "        print(eopatch)\n",
    "        #print(eopatch.data['indices'][3])\n",
    "        #print(eopatch.data['indices'][3][...,0].squeeze())\n",
    "        images = np.clip(eopatch[self.feature]*self.scale_factor, 0, 1)\n",
    "        fps = len(images)/self.duration\n",
    "        subprocess.run(f'rm -rf {self.image_dir} && mkdir {self.image_dir}', shell=True)\n",
    "        \n",
    "        for idx, image in enumerate(images):\n",
    "            if self.shape:\n",
    "                fig = plt.figure(figsize=(self.shape[0], self.shape[1]))\n",
    "            image = image[...,0].squeeze()\n",
    "            plt.imshow(image)\n",
    "            plt.axis(False)\n",
    "            plt.savefig(f'{self.image_dir}/image_{idx:03d}.png', bbox_inches='tight', dpi=self.dpi, pad_inches = self.pad_inches)\n",
    "            plt.close()\n",
    "        \n",
    "        # video related\n",
    "        stream = ffmpeg.input(f'{self.image_dir}/image_*.png', pattern_type='glob', framerate=fps)\n",
    "        stream = stream.filter('pad', w='ceil(iw/2)*2', h='ceil(ih/2)*2', color='white')\n",
    "        split = stream.split()\n",
    "        video = split[0]\n",
    "        \n",
    "        # gif related\n",
    "        palette = split[1].filter('palettegen', reserve_transparent=True, stats_mode='diff')\n",
    "        gif = ffmpeg.filter([split[2], palette], 'paletteuse', dither='bayer', bayer_scale=5, diff_mode='rectangle')\n",
    "        \n",
    "        # save output\n",
    "        os.makedirs(self.out_dir, exist_ok=True)\n",
    "        video.output(f'{self.out_dir}/{self.out_name}.mp4', crf=15, pix_fmt='yuv420p', vcodec='libx264', an=None).run(overwrite_output=True)\n",
    "        gif.output(f'{self.out_dir}/{self.out_name}.gif').run(overwrite_output=True)\n",
    "        return eopatch"
   ]
  },
  {
   "cell_type": "code",
   "execution_count": 3,
   "id": "4518b50f",
   "metadata": {},
   "outputs": [
    {
     "name": "stdout",
     "output_type": "stream",
     "text": [
      "Image size: (484, 301)\n"
     ]
    },
    {
     "data": {
      "application/vnd.jupyter.widget-view+json": {
       "model_id": "527737a2b685464fa7bd0a9c20171139",
       "version_major": 2,
       "version_minor": 0
      },
      "text/plain": [
       "Map(center=[55.474791999999994, 9.098326499999999], controls=(ZoomControl(options=['position', 'zoom_in_text',…"
      ]
     },
     "metadata": {},
     "output_type": "display_data"
    }
   ],
   "source": [
    "\n",
    "# https://twitter.com/Valtzen/status/1270269337061019648\n",
    "bbox = BBox(bbox=[9.094491, 55.473442, 9.102162, 55.476142], crs=CRS.WGS84)\n",
    "resolution = 1\n",
    "time_interval = ('2018-01-01', '2020-01-01')\n",
    "print(f'Image size: {bbox_to_dimensions(bbox, resolution)}')\n",
    "\n",
    "geom, crs = bbox.geometry, bbox.crs\n",
    "wgs84_geometry = Geometry(geom, crs).transform(CRS.WGS84)\n",
    "geometry_center = wgs84_geometry.geometry.centroid\n",
    "\n",
    "map1 = Map(\n",
    "    basemap=basemaps.Esri.WorldImagery,\n",
    "    center=(geometry_center.y, geometry_center.x),\n",
    "    zoom=13\n",
    ")\n",
    "\n",
    "area_geojson = GeoJSON(data=wgs84_geometry.geojson)\n",
    "map1.add_layer(area_geojson)\n",
    "\n",
    "map1"
   ]
  },
  {
   "cell_type": "code",
   "execution_count": 4,
   "id": "35166088",
   "metadata": {},
   "outputs": [],
   "source": [
    "download_task = SentinelHubInputTask(\n",
    "    bands = ['B04', 'B03', 'B02'],\n",
    "    bands_feature = (FeatureType.DATA, 'RGB'),\n",
    "    resolution=resolution,\n",
    "    maxcc=0.9,\n",
    "    time_difference=timedelta(minutes=120),\n",
    "    data_collection=DataCollection.SENTINEL2_L2A,\n",
    "    max_threads=10,\n",
    "    mosaicking_order='leastCC',\n",
    "    additional_data=[\n",
    "        (FeatureType.MASK, 'CLM'),\n",
    "        (FeatureType.MASK, 'dataMask')\n",
    "    ]\n",
    ")"
   ]
  },
  {
   "cell_type": "code",
   "execution_count": 5,
   "id": "db9aa1a9",
   "metadata": {},
   "outputs": [],
   "source": [
    "indices_evalscript = \"\"\"\n",
    "    //VERSION=3\n",
    "\n",
    "    function setup() {\n",
    "        return {\n",
    "            input: [\"B03\",\"B04\",\"B08\",\"dataMask\"],\n",
    "            output:[{\n",
    "                id: \"indices\",\n",
    "                bands: 2,\n",
    "                sampleType: SampleType.FLOAT32\n",
    "            }]\n",
    "        }\n",
    "    }\n",
    "\n",
    "    function evaluatePixel(sample) {\n",
    "        let ndvi = index(sample.B08, sample.B04);\n",
    "        let ndwi = index(sample.B03, sample.B08);\n",
    "        return {\n",
    "           indices: [ndvi, ndwi]\n",
    "        };\n",
    "    }\n",
    "\"\"\"\n",
    "\n",
    "add_indices = SentinelHubEvalscriptTask(\n",
    "    features=[(FeatureType.DATA, 'indices')],\n",
    "    evalscript=indices_evalscript,\n",
    "    data_collection=DataCollection.SENTINEL2_L1C,\n",
    "    resolution=resolution,\n",
    "    maxcc=0.9,\n",
    "    time_difference=timedelta(minutes=120),\n",
    "    config=config,\n",
    "    max_threads=3\n",
    ")"
   ]
  },
  {
   "cell_type": "code",
   "execution_count": 6,
   "id": "158651ae",
   "metadata": {},
   "outputs": [
    {
     "name": "stderr",
     "output_type": "stream",
     "text": [
      "/Users/madsfalken/opt/anaconda3/envs/branch-env/lib/python3.7/site-packages/eolearn/core/utilities.py:539: DeprecationWarning: The class ECCRegistration has been renamed to ECCRegistrationTask. The old name is deprecated and will be removed in version 1.0\n",
      "  DeprecationWarning\n"
     ]
    }
   ],
   "source": [
    "def valid_coverage_thresholder_f(valid_mask, more_than=0.95):\n",
    "    coverage = np.count_nonzero(valid_mask)/np.prod(valid_mask.shape)\n",
    "    return coverage > more_than\n",
    "\n",
    "valid_mask_task = ZipFeatureTask({FeatureType.MASK: ['CLM', 'dataMask']}, (FeatureType.MASK, 'VALID_DATA'),\n",
    "                                 lambda clm, dm: np.all([clm == 0, dm], axis=0))\n",
    "\n",
    "filter_task = SimpleFilterTask((FeatureType.MASK, 'VALID_DATA'), valid_coverage_thresholder_f)\n",
    "\n",
    "name = 'clm_service'\n",
    "anim_task = AnimateTask(image_dir = './images', out_dir = './animations', out_name=name, duration=5, dpi=200)\n",
    "\n",
    "params = {'MaxIters': 500}\n",
    "coreg_task = ECCRegistration((FeatureType.DATA, 'RGB'), channel=2, params=params)\n",
    "\n",
    "name = 'clm_service_coreg'\n",
    "anim_task_after = AnimateTask(image_dir='./images', out_dir='./animations', out_name=name, duration=5, dpi=200)"
   ]
  },
  {
   "cell_type": "code",
   "execution_count": 7,
   "id": "0db1ae5a",
   "metadata": {},
   "outputs": [],
   "source": [
    "workflow = LinearWorkflow(\n",
    "    download_task,\n",
    "    add_indices,\n",
    "    valid_mask_task,\n",
    "    filter_task,\n",
    "    #anim_task,\n",
    "    #coreg_task,\n",
    "    #anim_task_after\n",
    ")\n",
    "\n",
    "result = workflow.execute({\n",
    "    download_task: {'bbox': bbox, 'time_interval': time_interval}\n",
    "})"
   ]
  },
  {
   "cell_type": "code",
   "execution_count": null,
   "id": "a7705bc5",
   "metadata": {},
   "outputs": [],
   "source": []
  }
 ],
 "metadata": {
  "kernelspec": {
   "display_name": "Python 3 (ipykernel)",
   "language": "python",
   "name": "python3"
  },
  "language_info": {
   "codemirror_mode": {
    "name": "ipython",
    "version": 3
   },
   "file_extension": ".py",
   "mimetype": "text/x-python",
   "name": "python",
   "nbconvert_exporter": "python",
   "pygments_lexer": "ipython3",
   "version": "3.7.11"
  }
 },
 "nbformat": 4,
 "nbformat_minor": 5
}
